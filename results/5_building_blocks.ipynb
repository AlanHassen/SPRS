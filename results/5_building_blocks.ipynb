{
 "cells": [
  {
   "cell_type": "code",
   "execution_count": 2,
   "id": "287677f9",
   "metadata": {},
   "outputs": [],
   "source": [
    "full_building_blocks = \"/Users/alankaihassen/Development/diversity_mcts/repository/data/stocks/full_building_blocks/dual_value_networks_emolecules_stock.hdf5\"\n",
    "missing_building_blocks = \"/Users/alankaihassen/Development/diversity_mcts/repository/data/stocks/removed_building_blocks/emolecules_without_retrostar_building_blocks_azf_format.hdf5\"\n",
    "\n",
    "import pandas\n",
    "\n",
    "full_building_blocks_df = pandas.read_hdf(full_building_blocks, key=\"table\")\n",
    "missing_building_blocks_df = pandas.read_hdf(missing_building_blocks, key=\"table\")"
   ]
  },
  {
   "cell_type": "code",
   "execution_count": 3,
   "id": "3a24c3df",
   "metadata": {},
   "outputs": [
    {
     "name": "stdout",
     "output_type": "stream",
     "text": [
      "22876046\n",
      "22873172\n",
      "2874\n"
     ]
    }
   ],
   "source": [
    "print(len(full_building_blocks_df))\n",
    "print(len(missing_building_blocks_df))\n",
    "print(len(full_building_blocks_df) - len(missing_building_blocks_df))"
   ]
  }
 ],
 "metadata": {
  "kernelspec": {
   "display_name": "cas",
   "language": "python",
   "name": "python3"
  },
  "language_info": {
   "codemirror_mode": {
    "name": "ipython",
    "version": 3
   },
   "file_extension": ".py",
   "mimetype": "text/x-python",
   "name": "python",
   "nbconvert_exporter": "python",
   "pygments_lexer": "ipython3",
   "version": "3.9.19"
  }
 },
 "nbformat": 4,
 "nbformat_minor": 5
}
